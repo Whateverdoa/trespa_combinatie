{
 "cells": [
  {
   "cell_type": "code",
   "execution_count": 88,
   "metadata": {},
   "outputs": [],
   "source": [
    "import pandas as pd"
   ]
  },
  {
   "cell_type": "code",
   "execution_count": 89,
   "metadata": {},
   "outputs": [
    {
     "data": {
      "text/html": [
       "<div>\n",
       "<style scoped>\n",
       "    .dataframe tbody tr th:only-of-type {\n",
       "        vertical-align: middle;\n",
       "    }\n",
       "\n",
       "    .dataframe tbody tr th {\n",
       "        vertical-align: top;\n",
       "    }\n",
       "\n",
       "    .dataframe thead th {\n",
       "        text-align: right;\n",
       "    }\n",
       "</style>\n",
       "<table border=\"1\" class=\"dataframe\">\n",
       "  <thead>\n",
       "    <tr style=\"text-align: right;\">\n",
       "      <th></th>\n",
       "      <th>beeld1</th>\n",
       "      <th>pdf1</th>\n",
       "      <th>beeld1</th>\n",
       "      <th>pdf1</th>\n",
       "      <th>beeld1</th>\n",
       "      <th>pdf1</th>\n",
       "    </tr>\n",
       "  </thead>\n",
       "  <tbody>\n",
       "    <tr>\n",
       "      <th>0</th>\n",
       "      <td>P28.2.1: 293 etiketten</td>\n",
       "      <td>leeg.pdf</td>\n",
       "      <td>7037: 273 etiketten</td>\n",
       "      <td>leeg.pdf</td>\n",
       "      <td>K28.2.1: 440 etiketten</td>\n",
       "      <td>leeg.pdf</td>\n",
       "    </tr>\n",
       "    <tr>\n",
       "      <th>1</th>\n",
       "      <td>NaN</td>\n",
       "      <td>201947742_meteon-vdp_outline_248.pdf</td>\n",
       "      <td>NaN</td>\n",
       "      <td>201947742_meteon-vdp_outline_257.pdf</td>\n",
       "      <td>NaN</td>\n",
       "      <td>201947742_TOPLAB-vdp_outline_21.pdf</td>\n",
       "    </tr>\n",
       "    <tr>\n",
       "      <th>2</th>\n",
       "      <td>NaN</td>\n",
       "      <td>201947742_meteon-vdp_outline_248.pdf</td>\n",
       "      <td>NaN</td>\n",
       "      <td>201947742_meteon-vdp_outline_257.pdf</td>\n",
       "      <td>NaN</td>\n",
       "      <td>201947742_TOPLAB-vdp_outline_21.pdf</td>\n",
       "    </tr>\n",
       "  </tbody>\n",
       "</table>\n",
       "</div>"
      ],
      "text/plain": [
       "                   beeld1                                  pdf1  \\\n",
       "0  P28.2.1: 293 etiketten                              leeg.pdf   \n",
       "1                     NaN  201947742_meteon-vdp_outline_248.pdf   \n",
       "2                     NaN  201947742_meteon-vdp_outline_248.pdf   \n",
       "\n",
       "                beeld1                                  pdf1  \\\n",
       "0  7037: 273 etiketten                              leeg.pdf   \n",
       "1                  NaN  201947742_meteon-vdp_outline_257.pdf   \n",
       "2                  NaN  201947742_meteon-vdp_outline_257.pdf   \n",
       "\n",
       "                   beeld1                                 pdf1  \n",
       "0  K28.2.1: 440 etiketten                             leeg.pdf  \n",
       "1                     NaN  201947742_TOPLAB-vdp_outline_21.pdf  \n",
       "2                     NaN  201947742_TOPLAB-vdp_outline_21.pdf  "
      ]
     },
     "execution_count": 89,
     "metadata": {},
     "output_type": "execute_result"
    }
   ],
   "source": [
    "file_1 = pd.read_csv(\"g_bewerkt.csv\",\";\")\n",
    "file_2 = pd.read_csv(\"gg_bewerkt.csv\",\";\")\n",
    "file_3 = pd.read_csv(\"ggg_bewerkt.csv\",\";\")\n",
    "\n",
    "file_in = \"vdp7.csv\" \n",
    "file_out = \"VDP7_met_in_uit.csv\"\n",
    "\n",
    "samengevoegd_3 = pd.concat([file_1,file_2,file_3], axis=1)\n",
    "samengevoegd_3.head(3)"
   ]
  },
  {
   "cell_type": "code",
   "execution_count": 90,
   "metadata": {},
   "outputs": [
    {
     "data": {
      "text/plain": [
       "['\"omschrijving_1\";\"pdf_1\"',\n",
       " '\"omschrijving_2\";\"pdf_2\"',\n",
       " '\"omschrijving_3\";\"pdf_3\"']"
      ]
     },
     "execution_count": 90,
     "metadata": {},
     "output_type": "execute_result"
    }
   ],
   "source": [
    "kolomnamen = [f'\"omschrijving_{naam}\";\"pdf_{naam}\"'for naam in range(1,4)]\n",
    "kolomnamen"
   ]
  },
  {
   "cell_type": "code",
   "execution_count": 91,
   "metadata": {},
   "outputs": [
    {
     "data": {
      "text/plain": [
       "3"
      ]
     },
     "execution_count": 91,
     "metadata": {},
     "output_type": "execute_result"
    }
   ],
   "source": [
    "samengevoegd_3.columns.values.tolist()\n",
    "inuit=(len(samengevoegd_3.columns.values.tolist()))//2\n",
    "inuit"
   ]
  },
  {
   "cell_type": "code",
   "execution_count": 92,
   "metadata": {},
   "outputs": [
    {
     "data": {
      "text/html": [
       "<div>\n",
       "<style scoped>\n",
       "    .dataframe tbody tr th:only-of-type {\n",
       "        vertical-align: middle;\n",
       "    }\n",
       "\n",
       "    .dataframe tbody tr th {\n",
       "        vertical-align: top;\n",
       "    }\n",
       "\n",
       "    .dataframe thead th {\n",
       "        text-align: right;\n",
       "    }\n",
       "</style>\n",
       "<table border=\"1\" class=\"dataframe\">\n",
       "  <thead>\n",
       "    <tr style=\"text-align: right;\">\n",
       "      <th></th>\n",
       "      <th>omschrijving_1</th>\n",
       "      <th>pdf_1</th>\n",
       "      <th>omschrijving_2</th>\n",
       "      <th>pdf_2</th>\n",
       "      <th>omschrijving_3</th>\n",
       "      <th>pdf_3</th>\n",
       "    </tr>\n",
       "  </thead>\n",
       "  <tbody>\n",
       "    <tr>\n",
       "      <th>0</th>\n",
       "      <td>P28.2.1: 293 etiketten</td>\n",
       "      <td>leeg.pdf</td>\n",
       "      <td>7037: 273 etiketten</td>\n",
       "      <td>leeg.pdf</td>\n",
       "      <td>K28.2.1: 440 etiketten</td>\n",
       "      <td>leeg.pdf</td>\n",
       "    </tr>\n",
       "    <tr>\n",
       "      <th>1</th>\n",
       "      <td>NaN</td>\n",
       "      <td>201947742_meteon-vdp_outline_248.pdf</td>\n",
       "      <td>NaN</td>\n",
       "      <td>201947742_meteon-vdp_outline_257.pdf</td>\n",
       "      <td>NaN</td>\n",
       "      <td>201947742_TOPLAB-vdp_outline_21.pdf</td>\n",
       "    </tr>\n",
       "    <tr>\n",
       "      <th>2</th>\n",
       "      <td>NaN</td>\n",
       "      <td>201947742_meteon-vdp_outline_248.pdf</td>\n",
       "      <td>NaN</td>\n",
       "      <td>201947742_meteon-vdp_outline_257.pdf</td>\n",
       "      <td>NaN</td>\n",
       "      <td>201947742_TOPLAB-vdp_outline_21.pdf</td>\n",
       "    </tr>\n",
       "  </tbody>\n",
       "</table>\n",
       "</div>"
      ],
      "text/plain": [
       "           omschrijving_1                                 pdf_1  \\\n",
       "0  P28.2.1: 293 etiketten                              leeg.pdf   \n",
       "1                     NaN  201947742_meteon-vdp_outline_248.pdf   \n",
       "2                     NaN  201947742_meteon-vdp_outline_248.pdf   \n",
       "\n",
       "        omschrijving_2                                 pdf_2  \\\n",
       "0  7037: 273 etiketten                              leeg.pdf   \n",
       "1                  NaN  201947742_meteon-vdp_outline_257.pdf   \n",
       "2                  NaN  201947742_meteon-vdp_outline_257.pdf   \n",
       "\n",
       "           omschrijving_3                                pdf_3  \n",
       "0  K28.2.1: 440 etiketten                             leeg.pdf  \n",
       "1                     NaN  201947742_TOPLAB-vdp_outline_21.pdf  \n",
       "2                     NaN  201947742_TOPLAB-vdp_outline_21.pdf  "
      ]
     },
     "execution_count": 92,
     "metadata": {},
     "output_type": "execute_result"
    }
   ],
   "source": [
    "samengevoegd_3.columns=[\"omschrijving_1\",\"pdf_1\",\"omschrijving_2\",\"pdf_2\",\"omschrijving_3\",\"pdf_3\"]\n",
    "samengevoegd_3.head(3)"
   ]
  },
  {
   "cell_type": "code",
   "execution_count": 93,
   "metadata": {},
   "outputs": [],
   "source": [
    "samengevoegd_3.fillna(\"stans.pdf\", inplace=True)"
   ]
  },
  {
   "cell_type": "code",
   "execution_count": 94,
   "metadata": {},
   "outputs": [
    {
     "data": {
      "text/html": [
       "<div>\n",
       "<style scoped>\n",
       "    .dataframe tbody tr th:only-of-type {\n",
       "        vertical-align: middle;\n",
       "    }\n",
       "\n",
       "    .dataframe tbody tr th {\n",
       "        vertical-align: top;\n",
       "    }\n",
       "\n",
       "    .dataframe thead th {\n",
       "        text-align: right;\n",
       "    }\n",
       "</style>\n",
       "<table border=\"1\" class=\"dataframe\">\n",
       "  <thead>\n",
       "    <tr style=\"text-align: right;\">\n",
       "      <th></th>\n",
       "      <th>omschrijving_1</th>\n",
       "      <th>pdf_1</th>\n",
       "      <th>omschrijving_2</th>\n",
       "      <th>pdf_2</th>\n",
       "      <th>omschrijving_3</th>\n",
       "      <th>pdf_3</th>\n",
       "    </tr>\n",
       "  </thead>\n",
       "  <tbody>\n",
       "    <tr>\n",
       "      <th>7758</th>\n",
       "      <td>stans.pdf</td>\n",
       "      <td>201947742_meteon-vdp_outline_256.pdf</td>\n",
       "      <td>stans.pdf</td>\n",
       "      <td>stans.pdf</td>\n",
       "      <td>stans.pdf</td>\n",
       "      <td>stans.pdf</td>\n",
       "    </tr>\n",
       "    <tr>\n",
       "      <th>7759</th>\n",
       "      <td>7030: 637 etiketten</td>\n",
       "      <td>leeg.pdf</td>\n",
       "      <td>stans.pdf</td>\n",
       "      <td>stans.pdf</td>\n",
       "      <td>stans.pdf</td>\n",
       "      <td>stans.pdf</td>\n",
       "    </tr>\n",
       "    <tr>\n",
       "      <th>7760</th>\n",
       "      <td>stans.pdf</td>\n",
       "      <td>stans.pdf</td>\n",
       "      <td>stans.pdf</td>\n",
       "      <td>stans.pdf</td>\n",
       "      <td>stans.pdf</td>\n",
       "      <td>stans.pdf</td>\n",
       "    </tr>\n",
       "  </tbody>\n",
       "</table>\n",
       "</div>"
      ],
      "text/plain": [
       "           omschrijving_1                                 pdf_1  \\\n",
       "7758            stans.pdf  201947742_meteon-vdp_outline_256.pdf   \n",
       "7759  7030: 637 etiketten                              leeg.pdf   \n",
       "7760            stans.pdf                             stans.pdf   \n",
       "\n",
       "     omschrijving_2      pdf_2 omschrijving_3      pdf_3  \n",
       "7758      stans.pdf  stans.pdf      stans.pdf  stans.pdf  \n",
       "7759      stans.pdf  stans.pdf      stans.pdf  stans.pdf  \n",
       "7760      stans.pdf  stans.pdf      stans.pdf  stans.pdf  "
      ]
     },
     "execution_count": 94,
     "metadata": {},
     "output_type": "execute_result"
    }
   ],
   "source": [
    "samengevoegd_3.tail(3)\n"
   ]
  },
  {
   "cell_type": "code",
   "execution_count": 95,
   "metadata": {},
   "outputs": [],
   "source": [
    "samengevoegd_3.to_csv(\"vdp7.csv\",\";\")"
   ]
  },
  {
   "cell_type": "code",
   "execution_count": 96,
   "metadata": {},
   "outputs": [],
   "source": [
    "y = 11\n",
    "\n",
    "inuit = 3\n",
    "\n",
    "basis = \";;stans.pdf\"\n",
    "\n",
    "open(file_out, \"w\", encoding=\"utf-8\") # maak een bestand om in weg te schrijven\n",
    "\n",
    "with open(file_in, \"r\") as file_in: \n",
    "    read_line = file_in.readlines()\n",
    "    \n",
    "    with open(file_out, \"a\", encoding=\"utf-8\") as target:\n",
    "        target.writelines(read_line[0:3])\n",
    "        \n",
    "#         print(f'{basis*inuit}\\n'*(y*10))\n",
    "#         print(read_line[:])\n",
    "#         print(f'{basis*inuit}\\n'*(y*10))\n",
    "               \n",
    "        target.writelines(f'{basis*inuit}\\n'*(y*10))\n",
    "        \n",
    "        target.writelines(read_line[1:])\n",
    "        \n",
    "        target.writelines(f'{basis*inuit}\\n'*(y*10))\n",
    "    \n",
    "      \n",
    "        target.writelines(read_line[1:3])     "
   ]
  }
 ],
 "metadata": {
  "kernelspec": {
   "display_name": "Python 3",
   "language": "python",
   "name": "python3"
  },
  "language_info": {
   "codemirror_mode": {
    "name": "ipython",
    "version": 3
   },
   "file_extension": ".py",
   "mimetype": "text/x-python",
   "name": "python",
   "nbconvert_exporter": "python",
   "pygments_lexer": "ipython3",
   "version": "3.6.5"
  }
 },
 "nbformat": 4,
 "nbformat_minor": 2
}
