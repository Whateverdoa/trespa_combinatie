{
 "cells": [
  {
   "cell_type": "code",
   "execution_count": 2,
   "metadata": {},
   "outputs": [
    {
     "name": "stdout",
     "output_type": "stream",
     "text": [
      "initial_date 2019-08-26 14:00:27.888001\n",
      "new_final_time 2019-08-26 22:00:27.888001\n",
      "Time difference: 8:00:00\n"
     ]
    }
   ],
   "source": [
    "# Timedelta function demonstration  \n",
    "from datetime import datetime, timedelta \n",
    "  \n",
    "# Using current time \n",
    "ini_time_for_now = datetime.now() \n",
    "  \n",
    "# printing initial_date \n",
    "print (\"initial_date\", str(ini_time_for_now)) \n",
    "  \n",
    "# Some another datetime \n",
    "new_final_time = ini_time_for_now +  timedelta(hours = 8) \n",
    "  \n",
    "# printing new final_date \n",
    "print (\"new_final_time\", str(new_final_time)) \n",
    "  \n",
    "  \n",
    "# printing calculated past_dates \n",
    "print('Time difference:', str(new_final_time -  \n",
    "                             ini_time_for_now)) \n"
   ]
  }
 ],
 "metadata": {
  "kernelspec": {
   "display_name": "Python 3",
   "language": "python",
   "name": "python3"
  },
  "language_info": {
   "codemirror_mode": {
    "name": "ipython",
    "version": 3
   },
   "file_extension": ".py",
   "mimetype": "text/x-python",
   "name": "python",
   "nbconvert_exporter": "python",
   "pygments_lexer": "ipython3",
   "version": "3.6.5"
  }
 },
 "nbformat": 4,
 "nbformat_minor": 2
}
