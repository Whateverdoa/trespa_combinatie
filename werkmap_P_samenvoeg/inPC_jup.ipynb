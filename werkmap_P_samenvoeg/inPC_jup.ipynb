{
 "cells": [
  {
   "cell_type": "code",
   "execution_count": 1,
   "metadata": {
    "collapsed": true,
    "pycharm": {
     "is_executing": false
    }
   },
   "outputs": [
    {
     "name": "stdout",
     "output_type": "stream",
     "text": [
      "totaal van lijst is 134000 en het gemiddelde over 6 banen is 22333\n"
     ]
    }
   ],
   "source": [
    "import pandas as pd\n",
    "\n",
    "file_in = pd.read_csv(\"file_in.csv\", delimiter=\";\")\n",
    "\n",
    "aantal_banen = int(input(\"aantal_banen: >\"))\n",
    "totaal = file_in.an.sum()\n",
    "opb = ongeveer_per_baan = (totaal // aantal_banen)\n",
    "\n",
    "print(f'totaal van lijst is {totaal} en het gemiddelde over {aantal_banen} banen is {opb}')"
   ]
  }
 ],
 "metadata": {
  "kernelspec": {
   "display_name": "Python 3",
   "language": "python",
   "name": "python3"
  },
  "language_info": {
   "codemirror_mode": {
    "name": "ipython",
    "version": 3
   },
   "file_extension": ".py",
   "mimetype": "text/x-python",
   "name": "python",
   "nbconvert_exporter": "python",
   "pygments_lexer": "ipython3",
   "version": "3.6.5"
  },
  "pycharm": {
   "stem_cell": {
    "cell_type": "raw",
    "metadata": {
     "collapsed": false
    },
    "source": []
   }
  }
 },
 "nbformat": 4,
 "nbformat_minor": 1
}
